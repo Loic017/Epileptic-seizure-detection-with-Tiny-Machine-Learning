{
 "cells": [
  {
   "cell_type": "code",
   "execution_count": 24,
   "metadata": {},
   "outputs": [],
   "source": [
    "import numpy as np\n",
    "import tensorflow as tf\n",
    "from sklearn import metrics\n",
    "import pandas as pd\n",
    "import matplotlib.pyplot as plt\n",
    "import matplotlib.image as mpimg\n",
    "import math"
   ]
  },
  {
   "cell_type": "code",
   "execution_count": 25,
   "metadata": {},
   "outputs": [],
   "source": [
    "seizure_type = \"combined\"\n",
    "model_type = \"default\"\n",
    "\n",
    "model_path = f\"model/tflite_models/{seizure_type}_2.tflite\"\n",
    "main_folder_path = \"melspectrograms/\"\n",
    "path = main_folder_path + seizure_type + \"/\"\n",
    "\n",
    "if seizure_type == \"combined\":\n",
    "    path = main_folder_path + \"absence\" + \"/\"\n",
    "    test_x_absence = np.load(f\"{path}/test_absence_x.npy\")\n",
    "    test_y_absence = np.load(f\"{path}/test_absence_y.npy\")\n",
    "\n",
    "    path = main_folder_path + \"tonic-clonic\" + \"/\"\n",
    "    test_x_tonic_clonic = np.load(f\"{path}/test_tonic-clonic_x.npy\")\n",
    "    test_y_tonic_clonic = np.load(f\"{path}/test_tonic-clonic_y.npy\")\n",
    "\n",
    "    for i, v in enumerate(test_x_tonic_clonic):\n",
    "        if test_y_tonic_clonic[i] == 1:\n",
    "            test_y_tonic_clonic[i] = 2\n",
    "\n",
    "    path = main_folder_path + \"general\" + \"/\"\n",
    "    test_x_general = np.load(f\"{path}/test_general_x.npy\")\n",
    "    test_y_general = np.load(f\"{path}/test_general_y.npy\")\n",
    "\n",
    "    for i, v in enumerate(test_x_general):\n",
    "        if test_y_general[i] == 1:\n",
    "            test_y_general[i] = 3\n",
    "\n",
    "    test_x = np.concatenate((test_x_absence, test_x_tonic_clonic, test_x_general))\n",
    "    test_y = np.concatenate((test_y_absence, test_y_tonic_clonic, test_y_general))\n",
    "else:\n",
    "    test_x = np.load(f\"{path}/test_{seizure_type}_x.npy\")\n",
    "    test_y = np.load(f\"{path}/test_{seizure_type}_y.npy\")"
   ]
  },
  {
   "cell_type": "code",
   "execution_count": 26,
   "metadata": {},
   "outputs": [],
   "source": [
    "interpreter = tf.lite.Interpreter(model_path=model_path)\n",
    "interpreter.allocate_tensors()\n",
    "\n",
    "input_details = interpreter.get_input_details()\n",
    "output_details = interpreter.get_output_details()\n",
    "\n",
    "input_shape = input_details[0][\"shape\"]"
   ]
  },
  {
   "cell_type": "code",
   "execution_count": 27,
   "metadata": {},
   "outputs": [
    {
     "name": "stdout",
     "output_type": "stream",
     "text": [
      "(1615, 1, 40, 26)\n"
     ]
    }
   ],
   "source": [
    "test_x = np.expand_dims(test_x, axis=1)\n",
    "print(test_x.shape)"
   ]
  },
  {
   "cell_type": "code",
   "execution_count": 28,
   "metadata": {},
   "outputs": [
    {
     "name": "stdout",
     "output_type": "stream",
     "text": [
      "Input Shape: [ 1  1 40 26]\n"
     ]
    }
   ],
   "source": [
    "# Input size\n",
    "print(\"Input Shape:\", input_shape)"
   ]
  },
  {
   "cell_type": "markdown",
   "metadata": {},
   "source": [
    "# Inference\n"
   ]
  },
  {
   "cell_type": "code",
   "execution_count": 29,
   "metadata": {},
   "outputs": [],
   "source": [
    "tp, tn, fp, fn = 0, 0, 0, 0\n",
    "comb_actual, comb_predicted = [], []\n",
    "\n",
    "for i, v in enumerate(test_x):\n",
    "    v = np.uint8(v)\n",
    "    v = np.expand_dims(v, axis=0)\n",
    "    interpreter.set_tensor(input_details[0][\"index\"], v)\n",
    "    interpreter.invoke()\n",
    "\n",
    "    output_data = interpreter.get_tensor(output_details[0][\"index\"])\n",
    "\n",
    "    output_zeropoint = output_details[0][\"quantization\"][1]\n",
    "    output_scale = output_details[0][\"quantization\"][0]\n",
    "\n",
    "    output_data_0 = (output_data[0][0] - output_zeropoint) * output_scale\n",
    "    output_data_1 = (output_data[0][1] - output_zeropoint) * output_scale\n",
    "    output_data_2 = (output_data[0][2] - output_zeropoint) * output_scale\n",
    "    output_data_3 = (output_data[0][3] - output_zeropoint) * output_scale\n",
    "\n",
    "    output_data = [output_data_0, output_data_1, output_data_2, output_data_3]\n",
    "\n",
    "    output_data = tf.nn.softmax(output_data).numpy()\n",
    "\n",
    "    comb_actual.append(test_y[i])\n",
    "    comb_predicted.append(output_data)"
   ]
  },
  {
   "cell_type": "markdown",
   "metadata": {},
   "source": [
    "# Multi-Class Results\n"
   ]
  },
  {
   "cell_type": "code",
   "execution_count": 30,
   "metadata": {},
   "outputs": [
    {
     "name": "stdout",
     "output_type": "stream",
     "text": [
      "1615 1615\n",
      "(1615,) (1615,)\n"
     ]
    }
   ],
   "source": [
    "y_true = []\n",
    "for i in test_y:\n",
    "    y_true.append(i)\n",
    "y_pred = []\n",
    "for i in comb_predicted:\n",
    "    max_value = max(i)\n",
    "    for index, value in enumerate(i):\n",
    "        if value == max_value:\n",
    "            y_pred.append(index)\n",
    "            break\n",
    "y_true, y_pred = np.array(y_true), np.array(y_pred)\n",
    "\n",
    "print(len(test_y), len(comb_predicted))\n",
    "print(y_true.shape, y_pred.shape)\n",
    "\n",
    "y_score = []\n",
    "for i in comb_predicted:\n",
    "    y_score.append(i)"
   ]
  },
  {
   "cell_type": "code",
   "execution_count": 31,
   "metadata": {},
   "outputs": [
    {
     "name": "stdout",
     "output_type": "stream",
     "text": [
      "Absence Seizures: 20\n",
      "Tonic-Clonic Seizures: 159\n",
      "Generalized Seizures: 136\n",
      "Background: 1300\n",
      "Total: 1615\n"
     ]
    }
   ],
   "source": [
    "n_absz = 0\n",
    "n_tcsz = 0\n",
    "n_gnsz = 0\n",
    "n_bckg = 0\n",
    "for i in test_y:\n",
    "    if i == 1:\n",
    "        n_absz += 1\n",
    "    elif i == 2:\n",
    "        n_tcsz += 1\n",
    "    elif i == 3:\n",
    "        n_gnsz += 1\n",
    "    else:\n",
    "        n_bckg += 1\n",
    "\n",
    "\n",
    "print(\"Absence Seizures:\", n_absz)\n",
    "print(\"Tonic-Clonic Seizures:\", n_tcsz)\n",
    "print(\"Generalized Seizures:\", n_gnsz)\n",
    "print(\"Background:\", n_bckg)\n",
    "print(\"Total:\", n_absz + n_tcsz + n_gnsz + n_bckg)"
   ]
  },
  {
   "cell_type": "code",
   "execution_count": 32,
   "metadata": {},
   "outputs": [],
   "source": [
    "labels = [\"Background\", \"Absence\", \"Tonic-Clonic\", \"General\"]\n",
    "cm = metrics.confusion_matrix(y_true, y_pred)"
   ]
  },
  {
   "cell_type": "code",
   "execution_count": 33,
   "metadata": {},
   "outputs": [
    {
     "data": {
      "text/plain": [
       "<sklearn.metrics._plot.confusion_matrix.ConfusionMatrixDisplay at 0x263b1704050>"
      ]
     },
     "execution_count": 33,
     "metadata": {},
     "output_type": "execute_result"
    },
    {
     "data": {
      "image/png": "[encoded data removed]",
      "text/plain": [
       "<Figure size 640x480 with 2 Axes>"
      ]
     },
     "metadata": {},
     "output_type": "display_data"
    }
   ],
   "source": [
    "a = metrics.ConfusionMatrixDisplay(cm, display_labels=labels)\n",
    "a.plot()\n",
    "# a.figure_.savefig(f\"results/pytorch_inference/default/combined/combined_cm.png\")"
   ]
  },
  {
   "cell_type": "code",
   "execution_count": 40,
   "metadata": {},
   "outputs": [
    {
     "name": "stdout",
     "output_type": "stream",
     "text": [
      "Accuracy: 89.10216718266254\n",
      "Sensitivity: 46.03174603174603 (145 / 315)\n",
      "Specificity: 99.53846153846155 (1294 / 1300)\n",
      "G-Mean: 67.68994889885191\n"
     ]
    }
   ],
   "source": [
    "TP = 18 + 46 + 81\n",
    "FN = 2 + (103 + 5 + 5) + 55\n",
    "\n",
    "total_s = TP + FN\n",
    "# print(total_s)\n",
    "\n",
    "TN = 1294\n",
    "FP = 3 + 3\n",
    "total_b = TN + FP\n",
    "# print(total_b)\n",
    "\n",
    "accuracy = ((TP + TN) / (total_s + total_b)) * 100\n",
    "print(f\"Accuracy: {accuracy}\")\n",
    "\n",
    "sensitivity = (TP / total_s) * 100\n",
    "print(f\"Sensitivity: {sensitivity} ({TP} / {total_s})\")\n",
    "\n",
    "specificity = (TN / total_b) * 100\n",
    "print(f\"Specificity: {specificity} ({TN} / {total_b})\")\n",
    "\n",
    "GMEAN = (math.sqrt(sensitivity / 100 * specificity / 100)) * 100\n",
    "print(f\"G-Mean: {GMEAN}\")"
   ]
  },
  {
   "cell_type": "code",
   "execution_count": 41,
   "metadata": {},
   "outputs": [
    {
     "name": "stdout",
     "output_type": "stream",
     "text": [
      "ROC AUC: 93.4271236197672\n"
     ]
    }
   ],
   "source": [
    "auc_score = (\n",
    "    metrics.roc_auc_score(\n",
    "        y_true=y_true, y_score=y_score, average=\"macro\", multi_class=\"ovo\"\n",
    "    )\n",
    ") * 100\n",
    "print(f\"ROC AUC: {auc_score}\")"
   ]
  },
  {
   "cell_type": "code",
   "execution_count": 98,
   "metadata": {},
   "outputs": [],
   "source": [
    "def percentage_decrease(initial_value, final_value):\n",
    "    print(initial_value, final_value)\n",
    "\n",
    "    if final_value < initial_value:\n",
    "        print(\"-\")\n",
    "        return round(((initial_value - final_value) / initial_value) * 100, 10)\n",
    "    else:\n",
    "        print(\"+\")\n",
    "        return round(((final_value - initial_value) / initial_value) * 100, 10)"
   ]
  },
  {
   "cell_type": "code",
   "execution_count": 99,
   "metadata": {},
   "outputs": [
    {
     "name": "stdout",
     "output_type": "stream",
     "text": [
      "47 23\n",
      "-\n"
     ]
    },
    {
     "data": {
      "text/plain": [
       "51.0638297872"
      ]
     },
     "execution_count": 99,
     "metadata": {},
     "output_type": "execute_result"
    }
   ],
   "source": [
    "percentage_decrease(47, 23)"
   ]
  }
 ],
 "metadata": {
  "kernelspec": {
   "display_name": ".venv",
   "language": "python",
   "name": "python3"
  },
  "language_info": {
   "codemirror_mode": {
    "name": "ipython",
    "version": 3
   },
   "file_extension": ".py",
   "mimetype": "text/x-python",
   "name": "python",
   "nbconvert_exporter": "python",
   "pygments_lexer": "ipython3",
   "version": "3.11.3"
  }
 },
 "nbformat": 4,
 "nbformat_minor": 2
}
