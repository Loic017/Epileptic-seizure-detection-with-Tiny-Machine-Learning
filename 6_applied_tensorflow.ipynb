{
 "cells": [
  {
   "cell_type": "markdown",
   "metadata": {},
   "source": [
    "# Handle Tensorflow Implementations\n"
   ]
  },
  {
   "cell_type": "code",
   "execution_count": 11,
   "metadata": {
    "metadata": {}
   },
   "outputs": [],
   "source": [
    "import pathlib\n",
    "import numpy as np\n",
    "import tensorflow as tf"
   ]
  },
  {
   "cell_type": "code",
   "execution_count": 12,
   "metadata": {},
   "outputs": [],
   "source": [
    "seizure_type = \"combined\"\n",
    "model_type = \"default\""
   ]
  },
  {
   "cell_type": "markdown",
   "metadata": {},
   "source": [
    "Import dataset for signature\n"
   ]
  },
  {
   "cell_type": "code",
   "execution_count": 13,
   "metadata": {},
   "outputs": [],
   "source": [
    "main_folder_path = \"melspectrograms/\"\n",
    "path = main_folder_path + seizure_type + \"/\"\n",
    "\n",
    "if seizure_type == \"combined\":\n",
    "    path = main_folder_path + \"absence\" + \"/\"\n",
    "    train_x_absence = np.load(f\"{path}/train_absence_x.npy\")\n",
    "    train_y_absence = np.load(f\"{path}/train_absence_y.npy\")\n",
    "\n",
    "    path = main_folder_path + \"tonic-clonic\" + \"/\"\n",
    "    train_x_tonic_clonic = np.load(f\"{path}/train_tonic-clonic_x.npy\")\n",
    "    train_y_tonic_clonic = np.load(f\"{path}/train_tonic-clonic_y.npy\")\n",
    "\n",
    "    for i, v in enumerate(train_x_tonic_clonic):\n",
    "        if train_y_tonic_clonic[i] == 1:\n",
    "            train_y_tonic_clonic[i] = 2\n",
    "\n",
    "    path = main_folder_path + \"general\" + \"/\"\n",
    "    train_x_general = np.load(f\"{path}/train_general_x.npy\")\n",
    "    train_y_general = np.load(f\"{path}/train_general_y.npy\")\n",
    "\n",
    "    for i, v in enumerate(train_x_general):\n",
    "        if train_y_general[i] == 1:\n",
    "            train_y_general[i] = 3\n",
    "\n",
    "    train_x = np.concatenate((train_x_absence, train_x_tonic_clonic, train_x_general))\n",
    "    train_y = np.concatenate((train_y_absence, train_y_tonic_clonic, train_y_general))\n",
    "else:\n",
    "    train_x = np.load(f\"{path}/train_{seizure_type}_x.npy\")\n",
    "    train_y = np.load(f\"{path}/train_{seizure_type}_y.npy\")"
   ]
  },
  {
   "cell_type": "markdown",
   "metadata": {},
   "source": [
    "Import Model\n"
   ]
  },
  {
   "cell_type": "code",
   "execution_count": 14,
   "metadata": {
    "metadata": {}
   },
   "outputs": [
    {
     "name": "stdout",
     "output_type": "stream",
     "text": [
      "model/tf_saved_models/combined_2_model\n"
     ]
    }
   ],
   "source": [
    "pb_model_path = f\"model/tf_saved_models/{seizure_type}_2_model\"\n",
    "print(pb_model_path)"
   ]
  },
  {
   "cell_type": "code",
   "execution_count": 15,
   "metadata": {
    "metadata": {}
   },
   "outputs": [],
   "source": [
    "file_path = f\"model/tflite_models/\"\n",
    "tflite_models_dir = pathlib.Path(file_path)"
   ]
  },
  {
   "cell_type": "code",
   "execution_count": 16,
   "metadata": {},
   "outputs": [
    {
     "name": "stderr",
     "output_type": "stream",
     "text": [
      "WARNING:absl:`input.1` is not a valid tf.function parameter name. Sanitizing to `input_1`.\n"
     ]
    },
    {
     "name": "stdout",
     "output_type": "stream",
     "text": [
      "(40, 26)\n",
      "(1, 1, 40, 26)\n"
     ]
    }
   ],
   "source": [
    "# load model\n",
    "model = tf.saved_model.load(pb_model_path)\n",
    "\n",
    "for i in train_x:\n",
    "    print(i.shape)\n",
    "    i = np.expand_dims(i, axis=0).astype(np.float32)\n",
    "    i = np.expand_dims(i, axis=0).astype(np.float32)\n",
    "    print(i.shape)\n",
    "    break"
   ]
  },
  {
   "cell_type": "code",
   "execution_count": 17,
   "metadata": {
    "metadata": {}
   },
   "outputs": [
    {
     "name": "stdout",
     "output_type": "stream",
     "text": [
      "Converting to TFLite...\n",
      "INFO:tensorflow:Restoring parameters from model/tf_saved_models/combined_2_model\\variables\\variables\n"
     ]
    },
    {
     "name": "stderr",
     "output_type": "stream",
     "text": [
      "INFO:tensorflow:Restoring parameters from model/tf_saved_models/combined_2_model\\variables\\variables\n"
     ]
    },
    {
     "name": "stdout",
     "output_type": "stream",
     "text": [
      "INFO:tensorflow:The given SavedModel MetaGraphDef contains SignatureDefs with the following keys: {'serving_default', '__saved_model_init_op'}\n"
     ]
    },
    {
     "name": "stderr",
     "output_type": "stream",
     "text": [
      "INFO:tensorflow:The given SavedModel MetaGraphDef contains SignatureDefs with the following keys: {'serving_default', '__saved_model_init_op'}\n"
     ]
    },
    {
     "name": "stdout",
     "output_type": "stream",
     "text": [
      "INFO:tensorflow:Restoring parameters from model/tf_saved_models/combined_2_model\\variables\\variables\n"
     ]
    },
    {
     "name": "stderr",
     "output_type": "stream",
     "text": [
      "INFO:tensorflow:Restoring parameters from model/tf_saved_models/combined_2_model\\variables\\variables\n"
     ]
    },
    {
     "name": "stdout",
     "output_type": "stream",
     "text": [
      "INFO:tensorflow:Restoring parameters from model/tf_saved_models/combined_2_model\\variables\\variables\n"
     ]
    },
    {
     "name": "stderr",
     "output_type": "stream",
     "text": [
      "INFO:tensorflow:Restoring parameters from model/tf_saved_models/combined_2_model\\variables\\variables\n"
     ]
    },
    {
     "name": "stdout",
     "output_type": "stream",
     "text": [
      "INFO:tensorflow:The given SavedModel MetaGraphDef contains SignatureDefs with the following keys: {'serving_default', '__saved_model_init_op'}\n"
     ]
    },
    {
     "name": "stderr",
     "output_type": "stream",
     "text": [
      "INFO:tensorflow:The given SavedModel MetaGraphDef contains SignatureDefs with the following keys: {'serving_default', '__saved_model_init_op'}\n"
     ]
    },
    {
     "name": "stdout",
     "output_type": "stream",
     "text": [
      "INFO:tensorflow:Restoring parameters from model/tf_saved_models/combined_2_model\\variables\\variables\n"
     ]
    },
    {
     "name": "stderr",
     "output_type": "stream",
     "text": [
      "INFO:tensorflow:Restoring parameters from model/tf_saved_models/combined_2_model\\variables\\variables\n"
     ]
    },
    {
     "data": {
      "text/plain": [
       "53984"
      ]
     },
     "execution_count": 17,
     "metadata": {},
     "output_type": "execute_result"
    }
   ],
   "source": [
    "print(\"Converting to TFLite...\")\n",
    "\n",
    "# Load File\n",
    "converter = tf.compat.v1.lite.TFLiteConverter.from_saved_model(pb_model_path)\n",
    "\n",
    "\n",
    "def representative_dataset():\n",
    "    for i in train_x:\n",
    "        i = np.expand_dims(i, axis=0).astype(np.float32)\n",
    "        i = np.expand_dims(i, axis=0).astype(np.float32)\n",
    "        yield [i]\n",
    "\n",
    "\n",
    "# # Apply optimisations\n",
    "converter.optimizations = [tf.lite.Optimize.DEFAULT]\n",
    "converter.representative_dataset = representative_dataset\n",
    "converter.target_spec.supported_ops = [tf.lite.OpsSet.TFLITE_BUILTINS_INT8]\n",
    "converter.inference_input_type = tf.uint8\n",
    "converter.inference_output_type = tf.uint8\n",
    "\n",
    "# Convert\n",
    "tflite_model = converter.convert()\n",
    "\n",
    "# Save\n",
    "tflite_model_quant_file = tflite_models_dir / f\"{seizure_type}_2.tflite\"\n",
    "tflite_model_quant_file.write_bytes(tflite_model)\n",
    "\n",
    "# https://www.kaggle.com/code/jarvisai7/tensorflow-pytorch-to-tflite"
   ]
  },
  {
   "cell_type": "code",
   "execution_count": 18,
   "metadata": {
    "metadata": {}
   },
   "outputs": [],
   "source": [
    "# Function: Convert some hex value into an array for C programming\n",
    "def hex_to_c_array(hex_data, var_name):\n",
    "\n",
    "    c_str = \"\"\n",
    "\n",
    "    # Create header guard\n",
    "    c_str += \"#ifndef \" + var_name.upper() + \"_H\\n\"\n",
    "    c_str += \"#define \" + var_name.upper() + \"_H\\n\\n\"\n",
    "\n",
    "    # Add array length at top of file\n",
    "    c_str += \"\\nunsigned int \" + var_name + \"_len = \" + str(len(hex_data)) + \";\\n\"\n",
    "\n",
    "    # Declare C variable\n",
    "    c_str += \"unsigned char \" + var_name + \"[] = {\"\n",
    "    hex_array = []\n",
    "    for i, val in enumerate(hex_data):\n",
    "\n",
    "        # Construct string from hex\n",
    "        hex_str = format(val, \"#04x\")\n",
    "\n",
    "        # Add formatting so each line stays within 80 characters\n",
    "        if (i + 1) < len(hex_data):\n",
    "            hex_str += \",\"\n",
    "        if (i + 1) % 12 == 0:\n",
    "            hex_str += \"\\n \"\n",
    "        hex_array.append(hex_str)\n",
    "\n",
    "    # Add closing brace\n",
    "    c_str += \"\\n \" + format(\" \".join(hex_array)) + \"\\n};\\n\\n\"\n",
    "\n",
    "    # Close out header guard\n",
    "    c_str += \"#endif //\" + var_name.upper() + \"_H\"\n",
    "\n",
    "    return c_str"
   ]
  },
  {
   "cell_type": "code",
   "execution_count": 19,
   "metadata": {
    "metadata": {}
   },
   "outputs": [],
   "source": [
    "with open(f\"model/model_c_files/{seizure_type}_2\" + \".h\", \"w\") as file:\n",
    "    file.write(hex_to_c_array(tflite_model, f\"model/model_c_files/{seizure_type}_2\"))"
   ]
  },
  {
   "cell_type": "code",
   "execution_count": 68,
   "metadata": {},
   "outputs": [],
   "source": [
    "# https://gist.github.com/ShawnHymel/79237fe6aee5a3653c497d879f746c0c"
   ]
  },
  {
   "cell_type": "code",
   "execution_count": null,
   "metadata": {},
   "outputs": [],
   "source": []
  }
 ],
 "metadata": {
  "kernelspec": {
   "display_name": ".venv",
   "language": "python",
   "name": "python3"
  },
  "language_info": {
   "codemirror_mode": {
    "name": "ipython",
    "version": 3
   },
   "file_extension": ".py",
   "mimetype": "text/x-python",
   "name": "python",
   "nbconvert_exporter": "python",
   "pygments_lexer": "ipython3",
   "version": "3.11.3"
  }
 },
 "nbformat": 4,
 "nbformat_minor": 2
}
