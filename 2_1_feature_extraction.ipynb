{
 "cells": [
  {
   "cell_type": "markdown",
   "metadata": {},
   "source": [
    "# Import Data and Train Model\n"
   ]
  },
  {
   "cell_type": "code",
   "execution_count": 1,
   "metadata": {
    "metadata": {}
   },
   "outputs": [
    {
     "name": "stderr",
     "output_type": "stream",
     "text": [
      "c:\\Users\\loicl\\Documents\\UniWork\\Year 3\\Dissertation\\TinyML-for-Epileptic-Seizures\\.venv\\Lib\\site-packages\\tqdm\\auto.py:21: TqdmWarning: IProgress not found. Please update jupyter and ipywidgets. See https://ipywidgets.readthedocs.io/en/stable/user_install.html\n",
      "  from .autonotebook import tqdm as notebook_tqdm\n"
     ]
    }
   ],
   "source": [
    "import os\n",
    "import tempfile\n",
    "import torch\n",
    "import torch.nn as nn\n",
    "import torch.nn.functional as F\n",
    "from torch.utils.data import Dataset, DataLoader, ConcatDataset\n",
    "from torch.utils.data.dataset import random_split\n",
    "from transformers import get_scheduler, AdamW\n",
    "from datasets import load_metric\n",
    "from torchsummary import summary\n",
    "from kfold_functions import reset_weights\n",
    "from sklearn.model_selection import KFold\n",
    "\n",
    "import numpy as np\n",
    "import librosa\n",
    "\n",
    "import matplotlib.pyplot as plt\n",
    "%matplotlib inline\n",
    "import pandas as pd;\n",
    "import numpy as np\n",
    "import math\n",
    "\n",
    "from imblearn.over_sampling import SMOTE\n",
    "from imblearn.under_sampling import RandomUnderSampler\n",
    "\n",
    "from tqdm.auto import tqdm\n",
    "import random\n",
    "\n",
    "seed_number = 69\n",
    "torch.manual_seed(seed_number)\n",
    "np.random.seed(seed_number)\n",
    "random.seed(seed_number)"
   ]
  },
  {
   "cell_type": "markdown",
   "metadata": {},
   "source": [
    "## Load Data: Create Dataset\n"
   ]
  },
  {
   "cell_type": "code",
   "execution_count": 2,
   "metadata": {
    "metadata": {}
   },
   "outputs": [],
   "source": [
    "class AbsenceDataset(Dataset):\n",
    "    def __init__(self, file_path, transform=None, target_transform=None):\n",
    "        self.x, self.y = self.data_get(file_path)\n",
    "        self.n_samples = len(self.x)\n",
    "\n",
    "        self.transform = transform\n",
    "        self.target_transform = target_transform\n",
    "\n",
    "    def __getitem__(self, idx):\n",
    "        sample_x, sample_y = self.x[idx], self.y[idx]\n",
    "\n",
    "        if self.transform:\n",
    "            sample_x = self.transform(sample_x)\n",
    "\n",
    "        if self.target_transform:\n",
    "            sample_y = self.target_transform(sample_y)\n",
    "\n",
    "        return sample_x.float(), sample_y.float()\n",
    "\n",
    "    def __len__(self):\n",
    "        return self.n_samples\n",
    "\n",
    "    def data_get(self, file_path):\n",
    "        data = pd.read_csv(file_path)\n",
    "        x_loaded, y_loaded = [], []\n",
    "        for index, row in data.iterrows():\n",
    "            a = np.load(row[\"labels\"])\n",
    "            for i, v in enumerate(a):\n",
    "                a[i] = int(v)\n",
    "            y_loaded.append(a)\n",
    "\n",
    "            x_loaded.append(np.load(row[\"data\"]))\n",
    "\n",
    "        continuous_x = np.concatenate(x_loaded, axis=0)\n",
    "        continuous_y = np.concatenate(y_loaded, axis=0)\n",
    "\n",
    "        cleaned_x = []\n",
    "        cleaned_y = []\n",
    "        for i, v in enumerate(continuous_y):\n",
    "            if v != \"2\":\n",
    "                cleaned_x.append(continuous_x[i])\n",
    "                cleaned_y.append(v)\n",
    "\n",
    "        continuous_x = np.array(cleaned_x)\n",
    "        continuous_y = np.array(cleaned_y)\n",
    "        return continuous_x, continuous_y"
   ]
  },
  {
   "cell_type": "code",
   "execution_count": 3,
   "metadata": {
    "metadata": {}
   },
   "outputs": [],
   "source": [
    "# %%capture\n",
    "# Load the dataset\n",
    "seizure_type = \"general\"\n",
    "dataset = AbsenceDataset(\n",
    "    f\"processed_data/{seizure_type}/two_second_windows/epochs_files.csv\",\n",
    "    transform=torch.tensor,\n",
    "    target_transform=torch.tensor,\n",
    ")\n",
    "dataset.y = dataset.y.astype(int)"
   ]
  },
  {
   "cell_type": "code",
   "execution_count": 4,
   "metadata": {
    "metadata": {}
   },
   "outputs": [
    {
     "data": {
      "text/plain": [
       "(5349, 7, 500)"
      ]
     },
     "execution_count": 4,
     "metadata": {},
     "output_type": "execute_result"
    }
   ],
   "source": [
    "dataset.x.shape"
   ]
  },
  {
   "cell_type": "markdown",
   "metadata": {},
   "source": [
    "# Split Data\n",
    "\n",
    "70%, 20%, 10%\n"
   ]
  },
  {
   "cell_type": "code",
   "execution_count": 5,
   "metadata": {
    "metadata": {}
   },
   "outputs": [
    {
     "data": {
      "text/plain": [
       "5349"
      ]
     },
     "execution_count": 5,
     "metadata": {},
     "output_type": "execute_result"
    }
   ],
   "source": [
    "dataset_len = len(dataset)\n",
    "dataset_len"
   ]
  },
  {
   "cell_type": "code",
   "execution_count": 6,
   "metadata": {
    "metadata": {}
   },
   "outputs": [
    {
     "name": "stdout",
     "output_type": "stream",
     "text": [
      "Train Split: 3745\n",
      "Eval Split: 1070\n",
      "Test Split: 534\n",
      "Total: 5349\n"
     ]
    }
   ],
   "source": [
    "train_set, eval_set, test_set = random_split(\n",
    "    dataset,\n",
    "    [0.7, 0.2, 0.1],\n",
    ")\n",
    "\n",
    "print(f\"Train Split: {len(train_set)}\")\n",
    "print(f\"Eval Split: {len(eval_set)}\")\n",
    "print(f\"Test Split: {len(test_set)}\")\n",
    "\n",
    "\n",
    "print(f\"Total: {len(train_set) + len(eval_set) + len(test_set)}\")"
   ]
  },
  {
   "cell_type": "code",
   "execution_count": 7,
   "metadata": {
    "metadata": {}
   },
   "outputs": [
    {
     "data": {
      "text/plain": [
       "((3745, 7, 500), (3745,), (1070, 7, 500), 5349)"
      ]
     },
     "execution_count": 7,
     "metadata": {},
     "output_type": "execute_result"
    }
   ],
   "source": [
    "# train_set.dataset.x[train_set.indices].shape, train_set.dataset.y[\n",
    "#     train_set.indices\n",
    "# ].shape\n",
    "\n",
    "train_set_x = train_set.dataset.x[train_set.indices]\n",
    "train_set_y = train_set.dataset.y[train_set.indices]\n",
    "\n",
    "eval_set_x = eval_set.dataset.x[eval_set.indices]\n",
    "eval_set_y = eval_set.dataset.y[eval_set.indices]\n",
    "\n",
    "test_set_x = test_set.dataset.x[test_set.indices]\n",
    "test_set_y = test_set.dataset.y[test_set.indices]\n",
    "\n",
    "train_set_x.shape, train_set_y.shape, eval_set_x.shape, train_set_x.shape[\n",
    "    0\n",
    "] + eval_set_x.shape[0] + test_set_x.shape[0]"
   ]
  },
  {
   "cell_type": "markdown",
   "metadata": {},
   "source": [
    "# Mel Spectrogram\n",
    "\n",
    "Apply Mel Spectrogram to all test data and save as an image scaled 0-255.\n"
   ]
  },
  {
   "cell_type": "markdown",
   "metadata": {},
   "source": [
    "Create Mel Spectrogram\n"
   ]
  },
  {
   "cell_type": "code",
   "execution_count": 16,
   "metadata": {
    "metadata": {}
   },
   "outputs": [
    {
     "data": {
      "text/plain": [
       "((3745, 7, 40, 26), (1070, 7, 40, 26), (534, 7, 40, 26), 5349)"
      ]
     },
     "execution_count": 16,
     "metadata": {},
     "output_type": "execute_result"
    }
   ],
   "source": [
    "n_fft = 200\n",
    "window = \"taylor\"\n",
    "hop_length = int(n_fft / 10)\n",
    "fmin = 0\n",
    "fmax = 30\n",
    "n_mels = 40\n",
    "sample_rate = 250\n",
    "power = 3.0\n",
    "\n",
    "\n",
    "# Train\n",
    "\n",
    "stft_channel_data = []\n",
    "for i, channels in enumerate(train_set_x):\n",
    "    mels = librosa.feature.melspectrogram(\n",
    "        y=channels,\n",
    "        sr=sample_rate,\n",
    "        n_mels=n_mels,\n",
    "        n_fft=n_fft,\n",
    "        fmin=fmin,\n",
    "        fmax=fmax,\n",
    "        hop_length=hop_length,\n",
    "        window=window,\n",
    "        center=True,\n",
    "        power=power,\n",
    "    )\n",
    "    # mels = np.log(mels + 1e-9)\n",
    "    stft_channel_data.append((mels))\n",
    "stft_channel_data = np.array(stft_channel_data)\n",
    "\n",
    "\n",
    "# Val\n",
    "\n",
    "val_stft_channel_data = []\n",
    "for i, channels in enumerate(eval_set_x):\n",
    "    mels = librosa.feature.melspectrogram(\n",
    "        y=channels,\n",
    "        sr=sample_rate,\n",
    "        n_mels=n_mels,\n",
    "        n_fft=n_fft,\n",
    "        fmin=fmin,\n",
    "        fmax=fmax,\n",
    "        hop_length=hop_length,\n",
    "        window=window,\n",
    "        center=True,\n",
    "        power=power,\n",
    "    )\n",
    "    # mels = np.log(mels + 1e-9)\n",
    "    val_stft_channel_data.append((mels))\n",
    "val_stft_channel_data = np.array(val_stft_channel_data)\n",
    "\n",
    "# Test\n",
    "\n",
    "test_stft_channel_data = []\n",
    "for i, channels in enumerate(test_set_x):\n",
    "    mels = librosa.feature.melspectrogram(\n",
    "        y=channels,\n",
    "        sr=sample_rate,\n",
    "        n_mels=n_mels,\n",
    "        n_fft=n_fft,\n",
    "        fmin=fmin,\n",
    "        fmax=fmax,\n",
    "        hop_length=hop_length,\n",
    "        window=window,\n",
    "        center=True,\n",
    "        power=power,\n",
    "    )\n",
    "    # mels = np.log(mels + 1e-9)\n",
    "    test_stft_channel_data.append((mels))\n",
    "test_stft_channel_data = np.array(test_stft_channel_data)\n",
    "\n",
    "stft_channel_data.shape, val_stft_channel_data.shape, test_stft_channel_data.shape, stft_channel_data.shape[\n",
    "    0\n",
    "] + val_stft_channel_data.shape[\n",
    "    0\n",
    "] + test_stft_channel_data.shape[\n",
    "    0\n",
    "]"
   ]
  },
  {
   "cell_type": "code",
   "execution_count": 17,
   "metadata": {
    "metadata": {}
   },
   "outputs": [
    {
     "data": {
      "text/plain": [
       "((3745, 7, 40, 26), (1070, 7, 40, 26), (534, 7, 40, 26), 5349)"
      ]
     },
     "execution_count": 17,
     "metadata": {},
     "output_type": "execute_result"
    }
   ],
   "source": [
    "# Train\n",
    "train_db = []\n",
    "for i, channels in enumerate(stft_channel_data):\n",
    "    train_db.append(librosa.power_to_db((channels)))\n",
    "train_db = np.array(train_db)\n",
    "\n",
    "# Val\n",
    "val_db = []\n",
    "for i, channels in enumerate(val_stft_channel_data):\n",
    "    val_db.append(librosa.power_to_db((channels)))\n",
    "val_db = np.array(val_db)\n",
    "\n",
    "# Test\n",
    "test_db = []\n",
    "for i, channels in enumerate(test_stft_channel_data):\n",
    "    test_db.append(librosa.power_to_db((channels)))\n",
    "test_db = np.array(test_db)\n",
    "\n",
    "\n",
    "train_db.shape, val_db.shape, test_db.shape, train_db.shape[0] + val_db.shape[\n",
    "    0\n",
    "] + test_db.shape[0]"
   ]
  },
  {
   "cell_type": "code",
   "execution_count": 18,
   "metadata": {
    "metadata": {}
   },
   "outputs": [
    {
     "data": {
      "text/plain": [
       "((3745, 40, 26), (1070, 40, 26), (534, 40, 26), 5349)"
      ]
     },
     "execution_count": 18,
     "metadata": {},
     "output_type": "execute_result"
    }
   ],
   "source": [
    "# Train\n",
    "train_db_mean = []\n",
    "for i, channels in enumerate(train_db):\n",
    "    train_db_mean.append(np.mean(channels, axis=0))\n",
    "train_db_mean = np.array(train_db_mean)\n",
    "\n",
    "# Val\n",
    "val_db_mean = []\n",
    "for i, channels in enumerate(val_db):\n",
    "    val_db_mean.append(np.mean(channels, axis=0))\n",
    "val_db_mean = np.array(val_db_mean)\n",
    "\n",
    "# Test\n",
    "test_db_mean = []\n",
    "for i, channels in enumerate(test_db):\n",
    "    test_db_mean.append(np.mean(channels, axis=0))\n",
    "test_db_mean = np.array(test_db_mean)\n",
    "\n",
    "train_db_mean.shape, val_db_mean.shape, test_db_mean.shape, train_db_mean.shape[\n",
    "    0\n",
    "] + val_db_mean.shape[0] + test_db_mean.shape[0]"
   ]
  },
  {
   "cell_type": "code",
   "execution_count": 19,
   "metadata": {
    "metadata": {}
   },
   "outputs": [
    {
     "name": "stdout",
     "output_type": "stream",
     "text": [
      "[4, 7, 8, 11, 13, 17, 18, 26, 34, 46, 50, 65, 67, 71, 86, 91, 93, 94, 99, 108, 111, 116, 122, 124, 125, 128, 131, 146, 154, 158, 166, 167, 169, 170, 174, 175, 178, 180, 183, 189, 194, 201, 202, 210, 217, 219, 220, 222, 225, 231]\n",
      "[239, 244, 245, 247, 250, 253, 261, 264, 268, 270, 273, 275, 278, 291, 293, 295, 298, 301, 303, 309, 310, 311, 314, 315, 319, 329, 332, 334, 337, 344, 355, 356, 360, 365, 366, 372, 387, 388, 393, 401, 402, 403, 409, 410, 412, 413, 415, 416, 418]\n"
     ]
    }
   ],
   "source": [
    "bbbb = []\n",
    "for i, v in enumerate(train_set_y):\n",
    "    if v == 1:\n",
    "        bbbb.append(i)\n",
    "print(bbbb[:50])\n",
    "print(bbbb[51:100])"
   ]
  },
  {
   "cell_type": "code",
   "execution_count": 41,
   "metadata": {
    "metadata": {}
   },
   "outputs": [
    {
     "name": "stdout",
     "output_type": "stream",
     "text": [
      "general\n",
      "1\n"
     ]
    },
    {
     "data": {
      "text/plain": [
       "([], [])"
      ]
     },
     "execution_count": 41,
     "metadata": {},
     "output_type": "execute_result"
    },
    {
     "data": {
      "image/png": "[encoded data removed]",
      "text/plain": [
       "<Figure size 640x480 with 1 Axes>"
      ]
     },
     "metadata": {},
     "output_type": "display_data"
    }
   ],
   "source": [
    "x = 239\n",
    "\n",
    "print(seizure_type)\n",
    "print(train_set_y[x])\n",
    "plt.imshow(train_db_mean[x])\n",
    "plt.yticks(\n",
    "    [-0.5, (n_mels / 4) / 2 - 0.5, n_mels / 4 - 0.5, n_mels / 2 - 0.5, n_mels - 0.5],\n",
    "    labels=[\n",
    "        f\"{fmin} Hz\",\n",
    "        f\"{int(fmax/4/2)} Hz\",\n",
    "        f\"{int(fmax/4)} Hz\",\n",
    "        f\"{int(fmax/2)} Hz\",\n",
    "        f\"{fmax} Hz\",\n",
    "    ],\n",
    ")\n",
    "\n",
    "plt.xticks([])"
   ]
  },
  {
   "cell_type": "code",
   "execution_count": 42,
   "metadata": {
    "metadata": {}
   },
   "outputs": [
    {
     "data": {
      "image/png": "[encoded data removed]",
      "text/plain": [
       "<Figure size 500x500 with 7 Axes>"
      ]
     },
     "metadata": {},
     "output_type": "display_data"
    }
   ],
   "source": [
    "# plt.figure(figsize=(10, 5))\n",
    "# plt.subplot(2, 1, 1)\n",
    "# plt.plot(np.mean(train_db_mean[x], axis=1))\n",
    "# plt.title(\"Mel Spectrogram Line Plot\")\n",
    "# plt.xticks([])\n",
    "# plt.yticks([])\n",
    "# plt.subplot(2, 1, 2)\n",
    "# for i in train_set_x[x]:\n",
    "#     plt.plot(i)\n",
    "# plt.title(\"Raw 7 Channels\")\n",
    "# plt.xticks([])\n",
    "# plt.yticks([])\n",
    "\n",
    "plt.figure(figsize=(5, 5))\n",
    "for i, v in enumerate(train_set_x[x]):\n",
    "    plt.subplot(7, 1, i + 1)\n",
    "    plt.plot(v)\n",
    "    # plt.title(f\"Channel {i}\", fontsize=10, pad=1)\n",
    "    plt.xticks([])\n",
    "    plt.yticks([])\n",
    "    plt.ylabel(f\"Ch {i+1}\", fontsize=10, labelpad=1)\n",
    "plt.show()"
   ]
  },
  {
   "cell_type": "markdown",
   "metadata": {},
   "source": [
    "Convert STFT to Image for Input\n"
   ]
  },
  {
   "cell_type": "code",
   "execution_count": 22,
   "metadata": {
    "metadata": {}
   },
   "outputs": [],
   "source": [
    "from skimage import io\n",
    "from sklearn import preprocessing"
   ]
  },
  {
   "cell_type": "code",
   "execution_count": 23,
   "metadata": {
    "metadata": {}
   },
   "outputs": [],
   "source": [
    "# Output MFCC or Mel Spectrogram\n",
    "to_image_train = train_db_mean\n",
    "to_image_val = val_db_mean\n",
    "to_image_test = test_db_mean"
   ]
  },
  {
   "cell_type": "code",
   "execution_count": 24,
   "metadata": {
    "metadata": {}
   },
   "outputs": [],
   "source": [
    "def sklearn_minnax(min, max, X):\n",
    "    X_std = (X - X.min()) / (X.max() - X.min())\n",
    "    X_scaled = X_std * (max - min) + min\n",
    "    return X_scaled"
   ]
  },
  {
   "cell_type": "code",
   "execution_count": 25,
   "metadata": {
    "metadata": {}
   },
   "outputs": [
    {
     "data": {
      "text/plain": [
       "((3913, 40, 26), (1118, 40, 26), (559, 40, 26), 5590)"
      ]
     },
     "execution_count": 25,
     "metadata": {},
     "output_type": "execute_result"
    }
   ],
   "source": [
    "train_input_x = []\n",
    "for i, melspec in enumerate(to_image_train):\n",
    "    img = 255 - (sklearn_minnax(0, 255, melspec).astype(np.uint8))\n",
    "    # img = np.repeat(img[..., np.newaxis], 3, -1)\n",
    "    # img = np.transpose(img, (2, 0, 1))\n",
    "    train_input_x.append(img.astype(np.uint8))\n",
    "train_input_x = np.array(train_input_x)\n",
    "\n",
    "val_input_x = []\n",
    "for i, melspec in enumerate(to_image_val):\n",
    "    img = 255 - (sklearn_minnax(0, 255, melspec).astype(np.uint8))\n",
    "    # img = np.repeat(img[..., np.newaxis], 3, -1)\n",
    "    # img = np.transpose(img, (2, 0, 1))\n",
    "    val_input_x.append(img.astype(np.uint8))\n",
    "val_input_x = np.array(val_input_x)\n",
    "\n",
    "test_input_x = []\n",
    "for i, melspec in enumerate(to_image_test):\n",
    "    img = 255 - (sklearn_minnax(0, 255, melspec).astype(np.uint8))\n",
    "    # img = np.repeat(img[..., np.newaxis], 3, -1)\n",
    "    # img = np.transpose(img, (2, 0, 1))\n",
    "    test_input_x.append(img.astype(np.uint8))\n",
    "test_input_x = np.array(test_input_x)\n",
    "\n",
    "# https://stackoverflow.com/questions/56719138/how-can-i-save-a-librosa-spectrogram-plot-as-a-specific-sized-image\n",
    "\n",
    "train_input_x.shape, val_input_x.shape, test_input_x.shape, train_input_x.shape[\n",
    "    0\n",
    "] + val_input_x.shape[0] + test_input_x.shape[0]"
   ]
  },
  {
   "cell_type": "markdown",
   "metadata": {},
   "source": [
    "Smote on Mel Spectrogram\n"
   ]
  },
  {
   "cell_type": "code",
   "execution_count": 26,
   "metadata": {
    "metadata": {}
   },
   "outputs": [
    {
     "name": "stdout",
     "output_type": "stream",
     "text": [
      "(3913, 40, 26)\n"
     ]
    },
    {
     "data": {
      "text/plain": [
       "(3913, 1040)"
      ]
     },
     "execution_count": 26,
     "metadata": {},
     "output_type": "execute_result"
    }
   ],
   "source": [
    "shape = train_input_x.shape\n",
    "print(shape)\n",
    "\n",
    "data_reshaped = train_input_x\n",
    "\n",
    "data_reshaped = np.reshape(data_reshaped, (shape[0], shape[1] * shape[2]))\n",
    "\n",
    "data_reshaped.shape"
   ]
  },
  {
   "cell_type": "code",
   "execution_count": 27,
   "metadata": {
    "metadata": {}
   },
   "outputs": [],
   "source": [
    "train_input_x, train_input_y = SMOTE(\n",
    "    sampling_strategy=\"not majority\", random_state=seed_number\n",
    ").fit_resample(data_reshaped, train_set_y)"
   ]
  },
  {
   "cell_type": "code",
   "execution_count": 28,
   "metadata": {
    "metadata": {}
   },
   "outputs": [
    {
     "data": {
      "text/plain": [
       "((7502, 40, 26), (7502,))"
      ]
     },
     "execution_count": 28,
     "metadata": {},
     "output_type": "execute_result"
    }
   ],
   "source": [
    "train_input_x = np.reshape(train_input_x, (train_input_x.shape[0], shape[1], shape[2]))\n",
    "train_input_x.shape, train_input_y.shape"
   ]
  },
  {
   "cell_type": "code",
   "execution_count": 29,
   "metadata": {
    "metadata": {}
   },
   "outputs": [],
   "source": [
    "# train_input_x = train_input_x_fixed"
   ]
  },
  {
   "cell_type": "markdown",
   "metadata": {},
   "source": [
    "Other Data\n"
   ]
  },
  {
   "cell_type": "code",
   "execution_count": 30,
   "metadata": {
    "metadata": {}
   },
   "outputs": [
    {
     "data": {
      "text/plain": [
       "(3913, 40, 26)"
      ]
     },
     "execution_count": 30,
     "metadata": {},
     "output_type": "execute_result"
    }
   ],
   "source": [
    "imb_input_x = []\n",
    "for i, melspec in enumerate(to_image_train):\n",
    "    img = 255 - (sklearn_minnax(0, 255, melspec).astype(np.uint8))\n",
    "    # img = np.repeat(img[..., np.newaxis], 3, -1)\n",
    "    # img = np.transpose(img, (2, 0, 1))\n",
    "    imb_input_x.append(img.astype(np.uint8))\n",
    "imb_input_x = np.array(imb_input_x)\n",
    "imb_input_x.shape"
   ]
  },
  {
   "cell_type": "code",
   "execution_count": 35,
   "metadata": {
    "metadata": {}
   },
   "outputs": [
    {
     "name": "stdout",
     "output_type": "stream",
     "text": [
      "[1, 52, 55, 70, 82, 119, 135, 138, 167, 210, 251, 269, 271, 316, 333]\n",
      "(40, 26)\n",
      "[[161 136 127 ...  97 132 169]\n",
      " [120  95  86 ...  56  91 131]\n",
      " [250 255 249 ... 167 193 226]\n",
      " ...\n",
      " [255 255 255 ... 255 255 255]\n",
      " [255 255 255 ... 255 255 255]\n",
      " [255 255 255 ... 255 255 255]]\n"
     ]
    },
    {
     "data": {
      "image/png": "[encoded data removed]",
      "text/plain": [
       "<Figure size 500x500 with 1 Axes>"
      ]
     },
     "metadata": {},
     "output_type": "display_data"
    }
   ],
   "source": [
    "plt.figure(figsize=(5, 5))\n",
    "plt.axis(\"off\")\n",
    "\n",
    "ones = []\n",
    "for i, v in enumerate(train_input_y):\n",
    "    if v == 1:\n",
    "        ones.append(i)\n",
    "print(ones[:15])\n",
    "\n",
    "bb = 3\n",
    "io.imshow(train_input_x[70])\n",
    "print(train_input_x[bb].shape)\n",
    "\n",
    "print(train_input_x[bb])\n",
    "\n",
    "# io.imshow(train_input_x[1])\n",
    "# print(train_set_y[x])\n",
    "# print(train_set_x[x].shape)"
   ]
  },
  {
   "cell_type": "markdown",
   "metadata": {},
   "source": [
    "# Remake Dataset\n"
   ]
  },
  {
   "cell_type": "code",
   "execution_count": 352,
   "metadata": {
    "metadata": {}
   },
   "outputs": [],
   "source": [
    "class Dataset(Dataset):\n",
    "    def __init__(self, data, transform=None, target_transform=None):\n",
    "        self.x, self.y = data\n",
    "        self.n_samples = len(self.x)\n",
    "\n",
    "        self.transform = transform\n",
    "        self.target_transform = target_transform\n",
    "\n",
    "    def __getitem__(self, idx):\n",
    "        sample_x, sample_y = self.x[idx], self.y[idx]\n",
    "\n",
    "        if self.transform:\n",
    "            sample_x = self.transform(sample_x)\n",
    "\n",
    "        if self.target_transform:\n",
    "            sample_y = self.target_transform(sample_y)\n",
    "\n",
    "        return sample_x.float(), sample_y.float()\n",
    "\n",
    "    def __len__(self):\n",
    "        return self.n_samples"
   ]
  },
  {
   "cell_type": "code",
   "execution_count": 353,
   "metadata": {
    "metadata": {}
   },
   "outputs": [],
   "source": [
    "train_dataset = Dataset(\n",
    "    (train_input_x, train_input_y),\n",
    "    transform=torch.tensor,\n",
    "    target_transform=torch.tensor,\n",
    ")\n",
    "eval_dataset = Dataset(\n",
    "    (val_input_x, eval_set.dataset.y[eval_set.indices]),\n",
    "    transform=torch.tensor,\n",
    "    target_transform=torch.tensor,\n",
    ")\n",
    "test_dataset = Dataset(\n",
    "    (test_input_x, test_set.dataset.y[test_set.indices]),\n",
    "    transform=torch.tensor,\n",
    "    target_transform=torch.tensor,\n",
    ")"
   ]
  },
  {
   "cell_type": "code",
   "execution_count": 354,
   "metadata": {
    "metadata": {}
   },
   "outputs": [],
   "source": [
    "imb_dataset = Dataset(\n",
    "    (imb_input_x, train_set_y),\n",
    "    transform=torch.tensor,\n",
    "    target_transform=torch.tensor,\n",
    ")"
   ]
  },
  {
   "cell_type": "markdown",
   "metadata": {},
   "source": [
    "# Save\n"
   ]
  },
  {
   "cell_type": "code",
   "execution_count": 355,
   "metadata": {
    "metadata": {}
   },
   "outputs": [],
   "source": [
    "main_folder_path = \"melspectrograms/\"\n",
    "path = main_folder_path + seizure_type + \"/\""
   ]
  },
  {
   "cell_type": "code",
   "execution_count": 356,
   "metadata": {
    "metadata": {}
   },
   "outputs": [],
   "source": [
    "np.save(f\"{path}/train_{seizure_type}_x.npy\", train_dataset.x)\n",
    "np.save(f\"{path}/train_{seizure_type}_y.npy\", train_dataset.y)\n",
    "\n",
    "np.save(f\"{path}/validation_{seizure_type}_x.npy\", eval_dataset.x)\n",
    "np.save(f\"{path}/validation_{seizure_type}_y.npy\", eval_dataset.y)\n",
    "\n",
    "np.save(f\"{path}/test_{seizure_type}_x.npy\", test_dataset.x)\n",
    "np.save(f\"{path}/test_{seizure_type}_y.npy\", test_dataset.y)"
   ]
  },
  {
   "cell_type": "code",
   "execution_count": 357,
   "metadata": {
    "metadata": {}
   },
   "outputs": [],
   "source": [
    "np.save(f\"{path}/imb_{seizure_type}_x.npy\", imb_dataset.x)\n",
    "np.save(f\"{path}/imb_{seizure_type}_y.npy\", imb_dataset.y)"
   ]
  },
  {
   "cell_type": "code",
   "execution_count": null,
   "metadata": {},
   "outputs": [],
   "source": []
  }
 ],
 "metadata": {
  "kernelspec": {
   "display_name": ".venv",
   "language": "python",
   "name": "python3"
  },
  "language_info": {
   "codemirror_mode": {
    "name": "ipython",
    "version": 3
   },
   "file_extension": ".py",
   "mimetype": "text/x-python",
   "name": "python",
   "nbconvert_exporter": "python",
   "pygments_lexer": "ipython3",
   "version": "3.11.3"
  }
 },
 "nbformat": 4,
 "nbformat_minor": 2
}
