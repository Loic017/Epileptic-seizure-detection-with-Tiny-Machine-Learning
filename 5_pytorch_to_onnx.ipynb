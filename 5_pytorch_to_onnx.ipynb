{
 "cells": [
  {
   "cell_type": "code",
   "execution_count": 1,
   "metadata": {
    "metadata": {}
   },
   "outputs": [
    {
     "name": "stderr",
     "output_type": "stream",
     "text": [
      "c:\\Users\\loicl\\Documents\\UniWork\\Year 3\\Dissertation\\TinyML-for-Epileptic-Seizures\\.venv\\Lib\\site-packages\\tqdm\\auto.py:21: TqdmWarning: IProgress not found. Please update jupyter and ipywidgets. See https://ipywidgets.readthedocs.io/en/stable/user_install.html\n",
      "  from .autonotebook import tqdm as notebook_tqdm\n"
     ]
    }
   ],
   "source": [
    "import torch\n",
    "import torch.onnx\n",
    "from torchvision.models.feature_extraction import create_feature_extractor\n",
    "import torch.nn as nn\n",
    "\n",
    "import onnx\n",
    "from torchvision.models import mobilenet_v3_small\n",
    "from SZModel import SZModel, SZModel_SIGMOID, SZModel_Softmax, SZModel_Combined\n",
    "\n",
    "from torchsummary import summary"
   ]
  },
  {
   "cell_type": "markdown",
   "metadata": {},
   "source": [
    "# Set Model\n"
   ]
  },
  {
   "cell_type": "code",
   "execution_count": 2,
   "metadata": {},
   "outputs": [],
   "source": [
    "seizure_type = \"combined\"\n",
    "model_type = \"default\"\n",
    "device = torch.device(\"cpu\")"
   ]
  },
  {
   "cell_type": "markdown",
   "metadata": {},
   "source": [
    "Load Model\n"
   ]
  },
  {
   "cell_type": "code",
   "execution_count": 3,
   "metadata": {},
   "outputs": [],
   "source": [
    "if seizure_type == \"combined\":\n",
    "    model_absence = SZModel()\n",
    "    model_absence.load_state_dict(torch.load(\"model/pytorch_models/absence_model.pt\"))\n",
    "\n",
    "    model_absence = model_absence.to(device)\n",
    "    return_nodes = {\n",
    "        \"block2.4\": \"rr\",\n",
    "    }\n",
    "    model_absence = create_feature_extractor(model_absence, return_nodes=return_nodes)\n",
    "\n",
    "    model_tonic_clonic = SZModel()\n",
    "    model_tonic_clonic.load_state_dict(\n",
    "        torch.load(\"model/pytorch_models/tonic-clonic_model.pt\")\n",
    "    )\n",
    "    model_tonic_clonic = model_tonic_clonic.to(device)\n",
    "    return_nodes = {\n",
    "        \"block2.4\": \"rr\",\n",
    "    }\n",
    "    model_tonic_clonic = create_feature_extractor(\n",
    "        model_tonic_clonic, return_nodes=return_nodes\n",
    "    )\n",
    "\n",
    "    model_general = SZModel()\n",
    "    model_general.load_state_dict(torch.load(\"model/pytorch_models/general_model.pt\"))\n",
    "    model_general = model_general.to(device)\n",
    "    return_nodes = {\n",
    "        \"block2.4\": \"rr\",\n",
    "    }\n",
    "    model_general = create_feature_extractor(model_general, return_nodes=return_nodes)"
   ]
  },
  {
   "cell_type": "code",
   "execution_count": 4,
   "metadata": {
    "metadata": {}
   },
   "outputs": [
    {
     "name": "stdout",
     "output_type": "stream",
     "text": [
      "Model has 18676 parameters\n"
     ]
    }
   ],
   "source": [
    "if seizure_type == \"combined\":\n",
    "    model = SZModel_Combined(model_absence, model_tonic_clonic, model_general)\n",
    "\n",
    "    # calculate parameter count\n",
    "\n",
    "    n_params = 0\n",
    "\n",
    "    param_list_format = [[\"Layer\", \"Number of Parameters\"]]\n",
    "\n",
    "    for name, param in model.named_parameters():\n",
    "\n",
    "        n_params += param.numel()\n",
    "        a = name.split(\".\")\n",
    "\n",
    "        param_list_format.append([a, param.numel()])\n",
    "\n",
    "    print(f\"Model has {n_params} parameters\")\n",
    "\n",
    "else:\n",
    "    model = SZModel()"
   ]
  },
  {
   "cell_type": "code",
   "execution_count": 5,
   "metadata": {
    "metadata": {}
   },
   "outputs": [],
   "source": [
    "model.load_state_dict(torch.load(f\"model/pytorch_models/{seizure_type}_2_model.pt\"))\n",
    "model.to(device)\n",
    "\n",
    "pass"
   ]
  },
  {
   "cell_type": "markdown",
   "metadata": {},
   "source": [
    "# Convert Pytorch to ONNX\n"
   ]
  },
  {
   "cell_type": "code",
   "execution_count": 6,
   "metadata": {
    "metadata": {}
   },
   "outputs": [],
   "source": [
    "input_shape = (1, 1, 40, 26)\n",
    "torch.onnx.export(\n",
    "    model,\n",
    "    torch.randn(input_shape),\n",
    "    f\"model/onnx_models/{seizure_type}_2.onnx\",\n",
    "    opset_version=11,\n",
    ")"
   ]
  }
 ],
 "metadata": {
  "kernelspec": {
   "display_name": "Python 3",
   "language": "python",
   "name": "python3"
  },
  "language_info": {
   "codemirror_mode": {
    "name": "ipython",
    "version": 3
   },
   "file_extension": ".py",
   "mimetype": "text/x-python",
   "name": "python",
   "nbconvert_exporter": "python",
   "pygments_lexer": "ipython3",
   "version": "3.11.3"
  }
 },
 "nbformat": 4,
 "nbformat_minor": 2
}
